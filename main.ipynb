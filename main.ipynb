{
 "cells": [
  {
   "cell_type": "markdown",
   "id": "c7cd2504",
   "metadata": {},
   "source": [
    "# Visualizing the History of Nobel Prize Winnners"
   ]
  },
  {
   "cell_type": "markdown",
   "id": "a42f20c0",
   "metadata": {},
   "source": [
    "The Nobel Prize has been among the most prestigious international awards since 1901. Each year, awards are bestowed in chemistry, literature, physics, physiology or medicine, economics, and peace. In addition to the honor, prestige, and substantial prize money, the recipient also gets a gold medal with an image of Alfred Nobel (1833 - 1896), who established the prize.\n",
    "\n",
    "![](Nobel_Prize.png)\n",
    "\n",
    "The Nobel Foundation has made a dataset available of all prize winners from the outset of the awards from 1901 to 2023. The dataset used in this project is from the Nobel Prize API and is available in the `nobel.csv` file in the `data` folder.\n",
    "\n",
    "In this project, you'll get a chance to explore and answer several questions related to this prizewinning data. And we encourage you then to explore further questions that you're interested in!"
   ]
  },
  {
   "cell_type": "markdown",
   "id": "9e00b4f3",
   "metadata": {},
   "source": [
    "Analyze Nobel Prize winner data and identify patterns by answering the following questions:\n",
    "1. What is the most commonly awarded gender and birth country?\n",
    "    - Store your answers as string variables `top_gender` and `top_country`. \n",
    "\n",
    "1. Which decade had the highest ratio of US-born Nobel Prize winners to total winners in all categories?\n",
    "    - Store this as an integer called `max_decade_usa`. \n",
    "\n",
    "1. Which decade and Nobel Prize category combination had the highest proportion of female laureates?\n",
    "    - Store this as a dictionary called `max_female_dict` where the decade is the key and the category is the value. There should only be one key:value pair. \n",
    "\n",
    "1. Who was the first woman to receive a Nobel Prize, and in what category?\n",
    "    - Save your string answers as `first_woman_name` and `first_woman_category`. \n",
    "\n",
    "1. Which individuals or organizations have won more than one Nobel Prize throughout the years?\n",
    "    - Store the full names in a list named `repeat_list`."
   ]
  },
  {
   "cell_type": "code",
   "execution_count": 3,
   "id": "26465908-f7d5-4803-9057-a9b5081e6eb3",
   "metadata": {},
   "outputs": [],
   "source": [
    "# Loading in required libraries\n",
    "import pandas as pd\n",
    "import seaborn as sns\n",
    "import numpy as np\n",
    "import matplotlib.pyplot as plt"
   ]
  }
 ],
 "metadata": {
  "kernelspec": {
   "display_name": ".venv",
   "language": "python",
   "name": "python3"
  },
  "language_info": {
   "codemirror_mode": {
    "name": "ipython",
    "version": 3
   },
   "file_extension": ".py",
   "mimetype": "text/x-python",
   "name": "python",
   "nbconvert_exporter": "python",
   "pygments_lexer": "ipython3",
   "version": "3.13.1"
  }
 },
 "nbformat": 4,
 "nbformat_minor": 5
}
